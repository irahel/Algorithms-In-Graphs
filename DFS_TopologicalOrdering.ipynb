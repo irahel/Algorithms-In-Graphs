{
  "nbformat": 4,
  "nbformat_minor": 0,
  "metadata": {
    "colab": {
      "name": "Algoritmos em Grafos - Trabalho 01.ipynb",
      "version": "0.3.2",
      "provenance": [],
      "collapsed_sections": [],
      "include_colab_link": true
    },
    "kernelspec": {
      "display_name": "Python 3",
      "language": "python",
      "name": "python3"
    }
  },
  "cells": [
    {
      "cell_type": "markdown",
      "metadata": {
        "id": "view-in-github",
        "colab_type": "text"
      },
      "source": [
        "[View in Colaboratory](https://colab.research.google.com/github/irahel/Algorithms-In-Graphs/blob/master/DFS_TopologicalOrdering.ipynb)"
      ]
    },
    {
      "metadata": {
        "id": "5sJn8RQCb2rH",
        "colab_type": "code",
        "colab": {}
      },
      "cell_type": "code",
      "source": [
        "# Authenticate and link with Google Drive\n",
        "\n",
        "from google.colab import auth\n",
        "auth.authenticate_user()\n",
        "\n",
        "!pip install -U -q PyDrive\n",
        "from pydrive.drive import GoogleDrive\n",
        "from pydrive.auth import GoogleAuth\n",
        "from oauth2client.client import GoogleCredentials\n",
        "\n",
        "gauth = GoogleAuth()\n",
        "gauth.credentials = GoogleCredentials.get_application_default()\n",
        "drive = GoogleDrive(gauth)\n",
        "\n",
        "myfile = drive.CreateFile({'id': '1pyBQLBZsV2-1q2NWoyS5sirEAECk9aOW'})\n",
        "myfile.GetContentFile('toy_cycle.rud')"
      ],
      "execution_count": 0,
      "outputs": []
    },
    {
      "metadata": {
        "id": "lbHmRwHuZzFB",
        "colab_type": "code",
        "colab": {}
      },
      "cell_type": "code",
      "source": [
        "# Object Node\n",
        "#\n",
        "# Params:\n",
        "#\n",
        "# father:   Node Father\n",
        "# label:    Node identification\n",
        "# color:    Node color can be white, black or gray\n",
        "# started:  Node time started\n",
        "# finished: Node time finished\n",
        "# edges:    Node number of edges, one edge can be (Árvore, Retorno, Avanço e Cruzamento)\n",
        "\n",
        "class Node:\n",
        "    def __init__(self, father = None, label = -1, color = 'white', edges = 0, started = 0, finished = 0):\n",
        "        self.father = father\n",
        "        self.label = label\n",
        "        self.color = color\n",
        "        self.started = started\n",
        "        self.finished = finished\n",
        "        self.edges = edges"
      ],
      "execution_count": 0,
      "outputs": []
    },
    {
      "metadata": {
        "id": "nkTFiUlR52i-",
        "colab_type": "code",
        "colab": {}
      },
      "cell_type": "code",
      "source": [
        ""
      ],
      "execution_count": 0,
      "outputs": []
    },
    {
      "metadata": {
        "id": "cFtsexW8-YRc",
        "colab_type": "code",
        "colab": {}
      },
      "cell_type": "code",
      "source": [
        "# Object Tree\n",
        "#\n",
        "# Params:\n",
        "#\n",
        "# list_of_nodes: List of nodes in tree\n",
        "#\n",
        "# Methods:\n",
        "#\n",
        "# insert_node:\n",
        "#     Require:\n",
        "#        node: Node to insert into the tree\n",
        "#     Result: \n",
        "#        Insert a node in @list_of_nodes\n",
        "\n",
        "class Tree:\n",
        "  def __init__(self):\n",
        "    self.list_of_nodes = []\n",
        "    \n",
        "  def insert_node(self, node):\n",
        "    self.list_of_nodes.append(node)        "
      ],
      "execution_count": 0,
      "outputs": []
    },
    {
      "metadata": {
        "id": "kdTbVLZbZzFI",
        "colab_type": "code",
        "colab": {}
      },
      "cell_type": "code",
      "source": [
        "# Object Graph\n",
        "#\n",
        "# Params:\n",
        "#\n",
        "# instance:             .txt graph instance to work\n",
        "# lines:                Lines of txt\n",
        "# reverse:              Whether the search will be done in reverse order or not\n",
        "# cnt_vertex:           Number of vertices of the graph\n",
        "# cnt_edges:            Number of edges of the graph\n",
        "# adjacency_list:       List of adjacencies of vertices in the graph\n",
        "# list_of_nodes:        List of nodes in the graph\n",
        "# dict_of_edges:        Maps as edges with their proper classification (Árvore, Retorno, Avanço e Cruzamento)\n",
        "# list_of_trees:        List of created trees\n",
        "# topological_ordering: Vector with topological ordering of vertices\n",
        "# cnt_trees:            Number of created trees\n",
        "# time:                 Atual step count\n",
        "#\n",
        "# Methods:\n",
        "#\n",
        "# list_type_of_edges:\n",
        "#     Require:\n",
        "#         Nothing\n",
        "#     Result:\n",
        "#         Shows all the edges present in the graph and their respective classification\n",
        "#\n",
        "# expand_node:\n",
        "#     Require:\n",
        "#         node: Node to expand\n",
        "#     Result:\n",
        "#         'Expand' a @node, marks the nodes as gray or black and adds in the stack the white nodes\n",
        "#\n",
        "# show_nodes:\n",
        "#     Require:\n",
        "#         Nothing\n",
        "#     Result:\n",
        "#         Shows all the nodes in the graph, its start and end time\n",
        "#\n",
        "# show_topological:\n",
        "#     Require:\n",
        "#         Nothing\n",
        "#     Result:\n",
        "#         Shows the topological ordering of the graph\n",
        "#\n",
        "# verify:\n",
        "#     Require:\n",
        "#         node: Node to verify\n",
        "#     Result:\n",
        "#         Verifies that the node can be 'closed', ie its children are all 'black'\n",
        "#\n",
        "# dfs_search:\n",
        "#     Require:\n",
        "#         Nothing\n",
        "#     Result:\n",
        "#         Performs an depth firts search in the graph\n",
        "#\n",
        "# show_trees:\n",
        "#     Require:\n",
        "#         Nothing\n",
        "#     Result:\n",
        "#         Shows all trees created\n",
        "#\n",
        "# reverse_graph:\n",
        "#     Require:\n",
        "#         Nothing\n",
        "#     Result:\n",
        "#         Inverts the current graph\n",
        "\n",
        "class Graph:\n",
        "    def __init__(self, instance_name):\n",
        "        # Load instance\n",
        "        instance = open(instance_name)\n",
        "        lines = instance.readlines()\n",
        "        self.reverse = False\n",
        "        self.cnt_vertex, self.cnt_edges = [int(x) for x in lines[0].split()]     \n",
        "        \n",
        "        ####### Initialize all variabels ########\n",
        "        self.adjacency_list = [[] for x in range(self.cnt_vertex)]\n",
        "        self.list_of_nodes = [Node(label = x) for x in range(self.cnt_vertex)]\n",
        "        self.dict_of_edges = dict()\n",
        "        self.list_of_trees = [Tree()]\n",
        "        self.topological_ordering = []\n",
        "        self.cnt_trees = 0\n",
        "        self.time = 0\n",
        "        self.reverse = False\n",
        "        #########################################\n",
        "        \n",
        "        for l in range(self.cnt_edges):\n",
        "            v1, v2, value = [int(x) for x in lines[l+1].split()]\n",
        "            self.adjacency_list[v1-1].append(v2-1)\n",
        "            self.list_of_nodes[v1-1].edges += 1\n",
        "            self.list_of_nodes[v2-1].edges += 1\n",
        "            self.dict_of_edges[(v1-1, v2-1)] = None\n",
        "      # End\n",
        "     \n",
        "    def list_type_of_edges(self):\n",
        "      # Need to set only (Cruzamento e Avanço)\n",
        "      for u, v in self.dict_of_edges.keys():\n",
        "        edge = self.dict_of_edges[(u, v)]\n",
        "        \n",
        "        crossover = True\n",
        "      \n",
        "        for tree in self.list_of_trees:\n",
        "          nodes_in_tree = [tree.list_of_nodes[x].label for x in range(len(tree.list_of_nodes))]\n",
        "          \n",
        "          if (u in nodes_in_tree and v in nodes_in_tree):\n",
        "            if tree.list_of_nodes[v].father != None and tree.list_of_nodes[v].father.label != u:\n",
        "              self.dict_of_edges[(u, v)] = 'Avanço'\n",
        "              crossover = False\n",
        "              break\n",
        "          \n",
        "          if edge == None and crossover:\n",
        "            self.dict_of_edges[(u, v)] = 'Cruzamento'\n",
        "      \n",
        "      # Print   \n",
        "      for u, v in self.dict_of_edges.keys():\n",
        "        edge = self.dict_of_edges[(u, v)]\n",
        "        print(str(u) + ' ' + str(v) + ' ' + str(edge))\n",
        "   \n",
        "    def expand_node(self, node):\n",
        "        self.time += 1\n",
        "        node.color = 'grey'\n",
        "        node_is_black = True       \n",
        "        node.started = self.time\n",
        "        self.list_of_trees[self.cnt_trees].insert_node(node)\n",
        "        \n",
        "        # Catch the 'white' nodes and append them on the stack\n",
        "        # and set edge classification (Arvore e Retorno)\n",
        "        self.adjacency_list[node.label] = sorted(self.adjacency_list[node.label], reverse=True)\n",
        "        \n",
        "        for label_node in self.adjacency_list[node.label]:\n",
        "            node_expanded = self.list_of_nodes[label_node]\n",
        "            if node_expanded.color == 'white':\n",
        "                if node_expanded in self.expand_stack:\n",
        "                  self.expand_stack.remove(node_expanded)\n",
        "\n",
        "                self.dict_of_edges[(node.label, node_expanded.label)] = 'Arvore'\n",
        "               \n",
        "                self.expand_stack.append(node_expanded)\n",
        "                node_expanded.father = node\n",
        "                node_is_black = False\n",
        "                \n",
        "            if node_expanded.color == 'grey':\n",
        "              self.dict_of_edges[(node.label, node_expanded.label)] = 'Retorno'\n",
        "        \n",
        "        # If the expanded-node has no 'white' child, then we finish that node\n",
        "        if node_is_black:\n",
        "            node.color = 'black'\n",
        "            self.time += 1\n",
        "            node.finished = self.time\n",
        "            \n",
        "            self.topological_ordering.append(node)\n",
        "            \n",
        "            return node.father\n",
        "    \n",
        "    def show_nodes(self):\n",
        "        for node in self.list_of_nodes:\n",
        "            print('Node: ' + str(node.label) + ' Started at: ' + str(node.started) + ' and Finished at: ' \n",
        "                + str(node.finished) + '\\n')         \n",
        "            \n",
        "    def show_topological(self):\n",
        "      list_top = self.topological_ordering.copy()\n",
        "      \n",
        "      to_print = \"\"\n",
        "      for index in range(len(list_top)):\n",
        "        node = list_top.pop()\n",
        "        to_print += 'Node' +str(node.label) + ' --> '\n",
        "      print(to_print)\n",
        "    \n",
        "    # Used in dfs\n",
        "    def verify(self, node):\n",
        "      can_close = True\n",
        "      \n",
        "      for adjacency_label in self.adjacency_list[node.label]:\n",
        "        child = self.list_of_nodes[adjacency_label]\n",
        "        if not child.color == 'black':\n",
        "          can_close = False\n",
        "          break  \n",
        "    \n",
        "      if can_close:\n",
        "        node.color = 'black'\n",
        "        self.time += 1\n",
        "        node.finished = self.time\n",
        "        \n",
        "        self.topological_ordering.append(node)\n",
        "        \n",
        "        return node.father\n",
        "    \n",
        "    # Depth First Search\n",
        "    def dfs_search(self):\n",
        "        if self.reverse:\n",
        "          self.expand_stack = [self.topological_ordering.pop()]\n",
        "        else:\n",
        "          self.expand_stack = [max(self.list_of_nodes, key=lambda n : n.edges)]\n",
        "        \n",
        "        while True:            \n",
        "          while len(self.expand_stack) > 0:\n",
        "              node = self.expand_node(self.expand_stack.pop())\n",
        "              \n",
        "              if node != None: \n",
        "                father = self.verify(node)\n",
        "                \n",
        "                while father != None:\n",
        "                  father = self.verify(father)\n",
        "                \n",
        "          \n",
        "          has_white = False\n",
        "          # Verifies if exists white nodes in graph\n",
        "          if len(self.expand_stack) == 0:\n",
        "            if self.reverse:\n",
        "              list_top = self.topological_ordering.copy()\n",
        "              \n",
        "              for i in range(len(list_top)):\n",
        "                node = list_top.pop()\n",
        "                if node.color == 'white':\n",
        "                  self.expand_stack.append(node)\n",
        "                  has_white = True\n",
        "                  break\n",
        "            else:      \n",
        "              for node in self.list_of_nodes:\n",
        "                if node.color == 'white':\n",
        "                  self.expand_stack.append(node)\n",
        "                  has_white = True\n",
        "                  break                \n",
        "                \n",
        "          if not has_white:\n",
        "            break\n",
        "          else:\n",
        "            self.list_of_trees.append(Tree())\n",
        "            self.cnt_trees += 1\n",
        "            \n",
        "    def show_trees(self):\n",
        "      #for t in self.list_of_trees:\n",
        "        print('####################################################')\n",
        "        \n",
        "        for index in range(len(self.list_of_trees)):\n",
        "          result = ''\n",
        "          for node in self.list_of_trees[index].list_of_nodes:\n",
        "            result += str(node.label) + ' '\n",
        "          print(result)\n",
        "  \n",
        "    def reverse_graph(self):\n",
        "      # Reset the variables\n",
        "      new_adjacency_list = [[] for x in range(self.cnt_vertex)]\n",
        "      new_dict_of_edges = dict()\n",
        "      self.cnt_trees = 0\n",
        "      self.list_of_trees = [Tree()]\n",
        "      \n",
        "      for node in self.list_of_nodes:\n",
        "        node.color = 'white'\n",
        "        node.started = 0\n",
        "        node.finished = 0\n",
        "        node.father = None\n",
        "      \n",
        "      for u in range(len(self.adjacency_list)):\n",
        "        for v in self.adjacency_list[u]:\n",
        "          new_adjacency_list[v].append(u)\n",
        "          new_dict_of_edges[(v, u)] = None\n",
        "      \n",
        "      self.dict_of_edges = new_dict_of_edges\n",
        "      self.adjacency_list = new_adjacency_list\n",
        "      \n",
        "      self.time = 0\n",
        "      self.reverse = True"
      ],
      "execution_count": 0,
      "outputs": []
    },
    {
      "metadata": {
        "id": "bURABTCgZzFN",
        "colab_type": "code",
        "colab": {}
      },
      "cell_type": "code",
      "source": [
        "graph = Graph('toy_cycle.rud') "
      ],
      "execution_count": 0,
      "outputs": []
    },
    {
      "metadata": {
        "id": "XlPDq3XFZzFS",
        "colab_type": "code",
        "colab": {}
      },
      "cell_type": "code",
      "source": [
        "graph.dfs_search()"
      ],
      "execution_count": 0,
      "outputs": []
    },
    {
      "metadata": {
        "id": "wBoYRlX1ZzFX",
        "colab_type": "code",
        "colab": {
          "base_uri": "https://localhost:8080/",
          "height": 199
        },
        "outputId": "c4257c8f-e059-451f-ff03-b134cf37db36"
      },
      "cell_type": "code",
      "source": [
        "graph.show_nodes()"
      ],
      "execution_count": 364,
      "outputs": [
        {
          "output_type": "stream",
          "text": [
            "Node: 0 Started at: 1 and Finished at: 10\n",
            "\n",
            "Node: 1 Started at: 2 and Finished at: 3\n",
            "\n",
            "Node: 2 Started at: 4 and Finished at: 9\n",
            "\n",
            "Node: 3 Started at: 5 and Finished at: 6\n",
            "\n",
            "Node: 4 Started at: 7 and Finished at: 8\n",
            "\n"
          ],
          "name": "stdout"
        }
      ]
    },
    {
      "metadata": {
        "id": "xEoUlZNBZzFi",
        "colab_type": "code",
        "colab": {
          "base_uri": "https://localhost:8080/",
          "height": 54
        },
        "outputId": "e5b1117d-3bc5-45ca-8d30-5bdf1a5cce1f"
      },
      "cell_type": "code",
      "source": [
        "print(\"Ordenação Topológica\")\n",
        "graph.show_topological()"
      ],
      "execution_count": 365,
      "outputs": [
        {
          "output_type": "stream",
          "text": [
            "Ordenação Topológica\n",
            "Node0 --> Node2 --> Node4 --> Node3 --> Node1 --> \n"
          ],
          "name": "stdout"
        }
      ]
    },
    {
      "metadata": {
        "id": "pWqHxgNhZzFn",
        "colab_type": "code",
        "colab": {
          "base_uri": "https://localhost:8080/",
          "height": 54
        },
        "outputId": "4b7028c9-2c14-4e87-ed07-8709ad5ca1dd"
      },
      "cell_type": "code",
      "source": [
        "graph.show_trees()"
      ],
      "execution_count": 366,
      "outputs": [
        {
          "output_type": "stream",
          "text": [
            "####################################################\n",
            "0 1 2 3 4 \n"
          ],
          "name": "stdout"
        }
      ]
    },
    {
      "metadata": {
        "id": "A-722X7A5aZw",
        "colab_type": "code",
        "colab": {
          "base_uri": "https://localhost:8080/",
          "height": 126
        },
        "outputId": "bf7ba10b-1084-4ccf-847d-2983c7557fd8"
      },
      "cell_type": "code",
      "source": [
        "graph.list_type_of_edges()"
      ],
      "execution_count": 367,
      "outputs": [
        {
          "output_type": "stream",
          "text": [
            "0 1 Arvore\n",
            "0 2 Arvore\n",
            "0 3 Avanço\n",
            "2 3 Arvore\n",
            "3 0 Retorno\n",
            "2 4 Arvore\n"
          ],
          "name": "stdout"
        }
      ]
    },
    {
      "metadata": {
        "id": "c5xdmCoOZzFr",
        "colab_type": "code",
        "colab": {}
      },
      "cell_type": "code",
      "source": [
        "graph.reverse_graph()"
      ],
      "execution_count": 0,
      "outputs": []
    },
    {
      "metadata": {
        "id": "HVN0VwxIZzFw",
        "colab_type": "code",
        "colab": {}
      },
      "cell_type": "code",
      "source": [
        "graph.dfs_search()"
      ],
      "execution_count": 0,
      "outputs": []
    },
    {
      "metadata": {
        "id": "t0HWs-f6VGkp",
        "colab_type": "code",
        "colab": {
          "base_uri": "https://localhost:8080/",
          "height": 108
        },
        "outputId": "8f37b68c-0819-4e37-f87c-ad03ba010836"
      },
      "cell_type": "code",
      "source": [
        "graph.show_trees()\n",
        "print('Quantidade de Componentes Conexos: ' + str(len(graph.list_of_trees)))\n",
        "print('Shapiro wilk')"
      ],
      "execution_count": 374,
      "outputs": [
        {
          "output_type": "stream",
          "text": [
            "####################################################\n",
            "0 3 2 \n",
            "4 \n",
            "1 \n",
            "Quantidade de Componentes Conexos: 3\n"
          ],
          "name": "stdout"
        }
      ]
    },
    {
      "metadata": {
        "id": "GG8Su7mMVC2N",
        "colab_type": "code",
        "colab": {}
      },
      "cell_type": "code",
      "source": [
        ""
      ],
      "execution_count": 0,
      "outputs": []
    },
    {
      "metadata": {
        "id": "Xdfkq-9xkTqo",
        "colab_type": "code",
        "colab": {}
      },
      "cell_type": "code",
      "source": [
        ""
      ],
      "execution_count": 0,
      "outputs": []
    },
    {
      "metadata": {
        "id": "RCOVLIhd5FWL",
        "colab_type": "code",
        "colab": {}
      },
      "cell_type": "code",
      "source": [
        ""
      ],
      "execution_count": 0,
      "outputs": []
    }
  ]
}